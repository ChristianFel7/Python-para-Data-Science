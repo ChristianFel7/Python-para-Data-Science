{
  "nbformat": 4,
  "nbformat_minor": 0,
  "metadata": {
    "colab": {
      "provenance": [],
      "authorship_tag": "ABX9TyMWEtl13iyfR6r2m3Zkqqfw",
      "include_colab_link": true
    },
    "kernelspec": {
      "name": "python3",
      "display_name": "Python 3"
    },
    "language_info": {
      "name": "python"
    }
  },
  "cells": [
    {
      "cell_type": "markdown",
      "metadata": {
        "id": "view-in-github",
        "colab_type": "text"
      },
      "source": [
        "<a href=\"https://colab.research.google.com/github/ChristianFel7/Python-para-Data-Science/blob/main/Pandas_selecionando_e_agrupando_dados.ipynb\" target=\"_parent\"><img src=\"https://colab.research.google.com/assets/colab-badge.svg\" alt=\"Open In Colab\"/></a>"
      ]
    },
    {
      "cell_type": "markdown",
      "source": [
        "importando a base e selecionando os dados em que serão trabalhados\n",
        "\n",
        "\n"
      ],
      "metadata": {
        "id": "eqQdEMOh_R9g"
      }
    },
    {
      "cell_type": "code",
      "execution_count": 1,
      "metadata": {
        "id": "21FgtiDs6vTb"
      },
      "outputs": [],
      "source": [
        "import pandas as pd\n"
      ]
    },
    {
      "cell_type": "markdown",
      "source": [
        "base disponível em: https://cdn3.gnarususercontent.com.br/2927-pandas-selecao-agrupamento-dados/1-SEEG10_GERAL-BR_UF_2022.10.27-FINAL-SITE.xlsx"
      ],
      "metadata": {
        "id": "cHy5-j_J33f-"
      }
    },
    {
      "cell_type": "code",
      "source": [
        "emissoes_gases = pd.read_excel('/content/1-SEEG10_GERAL-BR_UF_2022.10.27-FINAL-SITE.xlsx', sheet_name = 'GEE Estados', engine='openpyxl')\n"
      ],
      "metadata": {
        "colab": {
          "base_uri": "https://localhost:8080/",
          "height": 298
        },
        "id": "DF8Sj0rI7gtL",
        "outputId": "34a8c541-9e8e-4983-9814-957a4860973b"
      },
      "execution_count": 2,
      "outputs": [
        {
          "output_type": "error",
          "ename": "FileNotFoundError",
          "evalue": "[Errno 2] No such file or directory: '/content/1-SEEG10_GERAL-BR_UF_2022.10.27-FINAL-SITE.xlsx'",
          "traceback": [
            "\u001b[0;31m---------------------------------------------------------------------------\u001b[0m",
            "\u001b[0;31mFileNotFoundError\u001b[0m                         Traceback (most recent call last)",
            "\u001b[0;32m<ipython-input-2-96db538feaa6>\u001b[0m in \u001b[0;36m<cell line: 0>\u001b[0;34m()\u001b[0m\n\u001b[0;32m----> 1\u001b[0;31m \u001b[0memissoes_gases\u001b[0m \u001b[0;34m=\u001b[0m \u001b[0mpd\u001b[0m\u001b[0;34m.\u001b[0m\u001b[0mread_excel\u001b[0m\u001b[0;34m(\u001b[0m\u001b[0;34m'/content/1-SEEG10_GERAL-BR_UF_2022.10.27-FINAL-SITE.xlsx'\u001b[0m\u001b[0;34m,\u001b[0m \u001b[0msheet_name\u001b[0m \u001b[0;34m=\u001b[0m \u001b[0;34m'GEE Estados'\u001b[0m\u001b[0;34m,\u001b[0m \u001b[0mengine\u001b[0m\u001b[0;34m=\u001b[0m\u001b[0;34m'openpyxl'\u001b[0m\u001b[0;34m)\u001b[0m\u001b[0;34m\u001b[0m\u001b[0;34m\u001b[0m\u001b[0m\n\u001b[0m",
            "\u001b[0;32m/usr/local/lib/python3.11/dist-packages/pandas/io/excel/_base.py\u001b[0m in \u001b[0;36mread_excel\u001b[0;34m(io, sheet_name, header, names, index_col, usecols, dtype, engine, converters, true_values, false_values, skiprows, nrows, na_values, keep_default_na, na_filter, verbose, parse_dates, date_parser, date_format, thousands, decimal, comment, skipfooter, storage_options, dtype_backend, engine_kwargs)\u001b[0m\n\u001b[1;32m    493\u001b[0m     \u001b[0;32mif\u001b[0m \u001b[0;32mnot\u001b[0m \u001b[0misinstance\u001b[0m\u001b[0;34m(\u001b[0m\u001b[0mio\u001b[0m\u001b[0;34m,\u001b[0m \u001b[0mExcelFile\u001b[0m\u001b[0;34m)\u001b[0m\u001b[0;34m:\u001b[0m\u001b[0;34m\u001b[0m\u001b[0;34m\u001b[0m\u001b[0m\n\u001b[1;32m    494\u001b[0m         \u001b[0mshould_close\u001b[0m \u001b[0;34m=\u001b[0m \u001b[0;32mTrue\u001b[0m\u001b[0;34m\u001b[0m\u001b[0;34m\u001b[0m\u001b[0m\n\u001b[0;32m--> 495\u001b[0;31m         io = ExcelFile(\n\u001b[0m\u001b[1;32m    496\u001b[0m             \u001b[0mio\u001b[0m\u001b[0;34m,\u001b[0m\u001b[0;34m\u001b[0m\u001b[0;34m\u001b[0m\u001b[0m\n\u001b[1;32m    497\u001b[0m             \u001b[0mstorage_options\u001b[0m\u001b[0;34m=\u001b[0m\u001b[0mstorage_options\u001b[0m\u001b[0;34m,\u001b[0m\u001b[0;34m\u001b[0m\u001b[0;34m\u001b[0m\u001b[0m\n",
            "\u001b[0;32m/usr/local/lib/python3.11/dist-packages/pandas/io/excel/_base.py\u001b[0m in \u001b[0;36m__init__\u001b[0;34m(self, path_or_buffer, engine, storage_options, engine_kwargs)\u001b[0m\n\u001b[1;32m   1565\u001b[0m         \u001b[0mself\u001b[0m\u001b[0;34m.\u001b[0m\u001b[0mstorage_options\u001b[0m \u001b[0;34m=\u001b[0m \u001b[0mstorage_options\u001b[0m\u001b[0;34m\u001b[0m\u001b[0;34m\u001b[0m\u001b[0m\n\u001b[1;32m   1566\u001b[0m \u001b[0;34m\u001b[0m\u001b[0m\n\u001b[0;32m-> 1567\u001b[0;31m         self._reader = self._engines[engine](\n\u001b[0m\u001b[1;32m   1568\u001b[0m             \u001b[0mself\u001b[0m\u001b[0;34m.\u001b[0m\u001b[0m_io\u001b[0m\u001b[0;34m,\u001b[0m\u001b[0;34m\u001b[0m\u001b[0;34m\u001b[0m\u001b[0m\n\u001b[1;32m   1569\u001b[0m             \u001b[0mstorage_options\u001b[0m\u001b[0;34m=\u001b[0m\u001b[0mstorage_options\u001b[0m\u001b[0;34m,\u001b[0m\u001b[0;34m\u001b[0m\u001b[0;34m\u001b[0m\u001b[0m\n",
            "\u001b[0;32m/usr/local/lib/python3.11/dist-packages/pandas/io/excel/_openpyxl.py\u001b[0m in \u001b[0;36m__init__\u001b[0;34m(self, filepath_or_buffer, storage_options, engine_kwargs)\u001b[0m\n\u001b[1;32m    551\u001b[0m         \"\"\"\n\u001b[1;32m    552\u001b[0m         \u001b[0mimport_optional_dependency\u001b[0m\u001b[0;34m(\u001b[0m\u001b[0;34m\"openpyxl\"\u001b[0m\u001b[0;34m)\u001b[0m\u001b[0;34m\u001b[0m\u001b[0;34m\u001b[0m\u001b[0m\n\u001b[0;32m--> 553\u001b[0;31m         super().__init__(\n\u001b[0m\u001b[1;32m    554\u001b[0m             \u001b[0mfilepath_or_buffer\u001b[0m\u001b[0;34m,\u001b[0m\u001b[0;34m\u001b[0m\u001b[0;34m\u001b[0m\u001b[0m\n\u001b[1;32m    555\u001b[0m             \u001b[0mstorage_options\u001b[0m\u001b[0;34m=\u001b[0m\u001b[0mstorage_options\u001b[0m\u001b[0;34m,\u001b[0m\u001b[0;34m\u001b[0m\u001b[0;34m\u001b[0m\u001b[0m\n",
            "\u001b[0;32m/usr/local/lib/python3.11/dist-packages/pandas/io/excel/_base.py\u001b[0m in \u001b[0;36m__init__\u001b[0;34m(self, filepath_or_buffer, storage_options, engine_kwargs)\u001b[0m\n\u001b[1;32m    561\u001b[0m         )\n\u001b[1;32m    562\u001b[0m         \u001b[0;32mif\u001b[0m \u001b[0;32mnot\u001b[0m \u001b[0misinstance\u001b[0m\u001b[0;34m(\u001b[0m\u001b[0mfilepath_or_buffer\u001b[0m\u001b[0;34m,\u001b[0m \u001b[0;34m(\u001b[0m\u001b[0mExcelFile\u001b[0m\u001b[0;34m,\u001b[0m \u001b[0mself\u001b[0m\u001b[0;34m.\u001b[0m\u001b[0m_workbook_class\u001b[0m\u001b[0;34m)\u001b[0m\u001b[0;34m)\u001b[0m\u001b[0;34m:\u001b[0m\u001b[0;34m\u001b[0m\u001b[0;34m\u001b[0m\u001b[0m\n\u001b[0;32m--> 563\u001b[0;31m             self.handles = get_handle(\n\u001b[0m\u001b[1;32m    564\u001b[0m                 \u001b[0mfilepath_or_buffer\u001b[0m\u001b[0;34m,\u001b[0m \u001b[0;34m\"rb\"\u001b[0m\u001b[0;34m,\u001b[0m \u001b[0mstorage_options\u001b[0m\u001b[0;34m=\u001b[0m\u001b[0mstorage_options\u001b[0m\u001b[0;34m,\u001b[0m \u001b[0mis_text\u001b[0m\u001b[0;34m=\u001b[0m\u001b[0;32mFalse\u001b[0m\u001b[0;34m\u001b[0m\u001b[0;34m\u001b[0m\u001b[0m\n\u001b[1;32m    565\u001b[0m             )\n",
            "\u001b[0;32m/usr/local/lib/python3.11/dist-packages/pandas/io/common.py\u001b[0m in \u001b[0;36mget_handle\u001b[0;34m(path_or_buf, mode, encoding, compression, memory_map, is_text, errors, storage_options)\u001b[0m\n\u001b[1;32m    880\u001b[0m         \u001b[0;32melse\u001b[0m\u001b[0;34m:\u001b[0m\u001b[0;34m\u001b[0m\u001b[0;34m\u001b[0m\u001b[0m\n\u001b[1;32m    881\u001b[0m             \u001b[0;31m# Binary mode\u001b[0m\u001b[0;34m\u001b[0m\u001b[0;34m\u001b[0m\u001b[0m\n\u001b[0;32m--> 882\u001b[0;31m             \u001b[0mhandle\u001b[0m \u001b[0;34m=\u001b[0m \u001b[0mopen\u001b[0m\u001b[0;34m(\u001b[0m\u001b[0mhandle\u001b[0m\u001b[0;34m,\u001b[0m \u001b[0mioargs\u001b[0m\u001b[0;34m.\u001b[0m\u001b[0mmode\u001b[0m\u001b[0;34m)\u001b[0m\u001b[0;34m\u001b[0m\u001b[0;34m\u001b[0m\u001b[0m\n\u001b[0m\u001b[1;32m    883\u001b[0m         \u001b[0mhandles\u001b[0m\u001b[0;34m.\u001b[0m\u001b[0mappend\u001b[0m\u001b[0;34m(\u001b[0m\u001b[0mhandle\u001b[0m\u001b[0;34m)\u001b[0m\u001b[0;34m\u001b[0m\u001b[0;34m\u001b[0m\u001b[0m\n\u001b[1;32m    884\u001b[0m \u001b[0;34m\u001b[0m\u001b[0m\n",
            "\u001b[0;31mFileNotFoundError\u001b[0m: [Errno 2] No such file or directory: '/content/1-SEEG10_GERAL-BR_UF_2022.10.27-FINAL-SITE.xlsx'"
          ]
        }
      ]
    },
    {
      "cell_type": "code",
      "source": [
        "emissoes_gases.info()"
      ],
      "metadata": {
        "id": "Yj_nc3Po9ZWa"
      },
      "execution_count": null,
      "outputs": []
    },
    {
      "cell_type": "code",
      "source": [
        "emissoes_gases = emissoes_gases[emissoes_gases['Emissão / Remoção / Bunker'] == 'Emissão']\n",
        "emissoes_gases"
      ],
      "metadata": {
        "id": "rSE02Pxi7wu-"
      },
      "execution_count": null,
      "outputs": []
    },
    {
      "cell_type": "code",
      "source": [
        "\n",
        "emissoes_gases = emissoes_gases.drop(columns = 'Emissão / Remoção / Bunker')\n",
        "emissoes_gases"
      ],
      "metadata": {
        "id": "snvd1FEG9TKt"
      },
      "execution_count": null,
      "outputs": []
    },
    {
      "cell_type": "markdown",
      "source": [
        "Agrupamento de dados"
      ],
      "metadata": {
        "id": "qeckn7ps_aXX"
      }
    },
    {
      "cell_type": "code",
      "source": [
        "colunas_info = list(emissoes_gases.loc[:, 'Nível 1 - Setor': 'Produto'].columns)\n",
        "colunas_info"
      ],
      "metadata": {
        "id": "iq05B-E1-Rw_"
      },
      "execution_count": null,
      "outputs": []
    },
    {
      "cell_type": "code",
      "source": [
        "colunas_emissao = list(emissoes_gases.loc[:, 1970: 2021].columns)\n",
        "colunas_emissao"
      ],
      "metadata": {
        "id": "ag8Pl_n5_x0H"
      },
      "execution_count": null,
      "outputs": []
    },
    {
      "cell_type": "markdown",
      "source": [
        "mudando o formato de long para wide"
      ],
      "metadata": {
        "id": "eExGjBIWBNzy"
      }
    },
    {
      "cell_type": "code",
      "source": [
        "emissoes_por_ano = emissoes_gases.melt(id_vars = colunas_info, value_vars = colunas_emissao, var_name = 'Ano', value_name = 'Emissão')\n",
        "emissoes_por_ano"
      ],
      "metadata": {
        "id": "9PBICqnUBIB9"
      },
      "execution_count": null,
      "outputs": []
    },
    {
      "cell_type": "markdown",
      "source": [
        "Agrupando pelo tipo de gas"
      ],
      "metadata": {
        "id": "N_qBLHNpC47k"
      }
    },
    {
      "cell_type": "code",
      "source": [
        "emissoes_por_ano.groupby('Gás').groups"
      ],
      "metadata": {
        "id": "G_T_y6fWC11_"
      },
      "execution_count": null,
      "outputs": []
    },
    {
      "cell_type": "code",
      "source": [
        "emissoes_por_ano.groupby('Gás').get_group('CO2 (t)')"
      ],
      "metadata": {
        "id": "u7EdZgbEBfzN"
      },
      "execution_count": null,
      "outputs": []
    },
    {
      "cell_type": "code",
      "source": [
        "emissoes_por_ano.groupby('Gás').sum(numeric_only= True)"
      ],
      "metadata": {
        "id": "aX1qpBV3GKUz"
      },
      "execution_count": null,
      "outputs": []
    },
    {
      "cell_type": "code",
      "source": [
        "emissao_por_gas = emissoes_por_ano.groupby('Gás').sum(numeric_only= True).sort_values('Emissão', ascending = False)\n",
        "emissao_por_gas"
      ],
      "metadata": {
        "id": "laaQwFbrKExC"
      },
      "execution_count": null,
      "outputs": []
    },
    {
      "cell_type": "code",
      "source": [
        "emissao_por_gas.plot(kind = 'barh', figsize = (10, 5))"
      ],
      "metadata": {
        "id": "2MFEj_kKKufe"
      },
      "execution_count": null,
      "outputs": []
    },
    {
      "cell_type": "code",
      "source": [
        "print(f'A emissão de CO2 corresponde a {float((emissao_por_gas.iloc[0:9].sum()/emissao_por_gas.sum()).iloc[0])*100:.2f} % de emissão total de gases estufa no Brasil de 1970 a 2021.')"
      ],
      "metadata": {
        "id": "PkcMnocfLHHv"
      },
      "execution_count": null,
      "outputs": []
    },
    {
      "cell_type": "markdown",
      "source": [
        "Agrupamentos Multi-index"
      ],
      "metadata": {
        "id": "jowUwvk2gb8q"
      }
    },
    {
      "cell_type": "code",
      "source": [
        "gas_por_setor = emissoes_por_ano.groupby(['Gás', 'Nível 1 - Setor'])[['Emissão']].sum()\n",
        "gas_por_setor"
      ],
      "metadata": {
        "id": "IYnqsq5nghCu"
      },
      "execution_count": null,
      "outputs": []
    },
    {
      "cell_type": "code",
      "source": [
        "gas_por_setor.xs('CO2 (t)', level = 'Gás')"
      ],
      "metadata": {
        "id": "KqfiwqzO1vpm"
      },
      "execution_count": null,
      "outputs": []
    },
    {
      "cell_type": "code",
      "source": [
        "gas_por_setor.xs(('CO2 (t)', 'Mudança de Uso da Terra e Floresta'), level = [0,1])"
      ],
      "metadata": {
        "id": "9CZn-dm5141m"
      },
      "execution_count": null,
      "outputs": []
    },
    {
      "cell_type": "code",
      "source": [
        "gas_por_setor.xs('CO2 (t)', level = 'Gás').max()"
      ],
      "metadata": {
        "id": "1ZLArS0o2Pth"
      },
      "execution_count": null,
      "outputs": []
    },
    {
      "cell_type": "code",
      "source": [
        "gas_por_setor.xs('CO2 (t)', level = 0).idxmax()"
      ],
      "metadata": {
        "id": "-tqByfEU2qjo"
      },
      "execution_count": null,
      "outputs": []
    },
    {
      "cell_type": "code",
      "source": [
        "gas_por_setor.groupby(level = 0).idxmax()"
      ],
      "metadata": {
        "id": "cB9JPVrZ3QiE"
      },
      "execution_count": null,
      "outputs": []
    },
    {
      "cell_type": "code",
      "source": [
        "gas_por_setor.groupby(level = 0).max()"
      ],
      "metadata": {
        "id": "MML_0Elx3dgu"
      },
      "execution_count": null,
      "outputs": []
    },
    {
      "cell_type": "code",
      "source": [
        "valores_maximos = gas_por_setor.groupby(level = 0).max().values\n",
        "tabela_sumarizada = gas_por_setor.groupby(level = 0).idxmax()\n",
        "tabela_sumarizada.insert(1, 'Quantidade de emissão', valores_maximos)\n",
        "tabela_sumarizada"
      ],
      "metadata": {
        "id": "aZiqH4jh3h5u"
      },
      "execution_count": null,
      "outputs": []
    },
    {
      "cell_type": "code",
      "source": [
        "emissoes_por_ano.groupby('Ano')[['Emissão']].mean().plot(figsize = (10, 6));"
      ],
      "metadata": {
        "id": "mh_gVZvMLX7l"
      },
      "execution_count": null,
      "outputs": []
    },
    {
      "cell_type": "code",
      "source": [
        "gas_por_setor.swaplevel(0, 1)"
      ],
      "metadata": {
        "id": "v8xC_jYpW8Ga"
      },
      "execution_count": null,
      "outputs": []
    },
    {
      "cell_type": "code",
      "source": [
        "gas_por_setor.swaplevel(0, 1).groupby(level = 0).idxmax()"
      ],
      "metadata": {
        "id": "5d0MDib8W_NF"
      },
      "execution_count": null,
      "outputs": []
    },
    {
      "cell_type": "code",
      "source": [
        "emissoes_por_ano"
      ],
      "metadata": {
        "id": "4NsGahi9XBjO"
      },
      "execution_count": null,
      "outputs": []
    },
    {
      "cell_type": "code",
      "source": [
        "emissoes_por_ano['Ano'] = pd.to_numeric(emissoes_por_ano['Ano'])\n",
        "emissoes_por_ano.groupby('Ano')['Emissão'].mean().plot(figsize = (10,6));"
      ],
      "metadata": {
        "id": "e3dmLd2vXRXL"
      },
      "execution_count": null,
      "outputs": []
    },
    {
      "cell_type": "code",
      "source": [
        "emissoes_por_ano.groupby('Ano').mean().plot(figsize = (10,6));"
      ],
      "metadata": {
        "id": "jiwINsPPNAPE"
      },
      "execution_count": null,
      "outputs": []
    },
    {
      "cell_type": "code",
      "source": [
        "emissoes_por_ano.groupby(['Ano', 'Gás'])['Emissão'].mean()"
      ],
      "metadata": {
        "id": "prgtgaNWNCYj"
      },
      "execution_count": null,
      "outputs": []
    },
    {
      "cell_type": "code",
      "source": [
        "media_emissao_anual = emissoes_por_ano.groupby(['Ano', 'Gás']).mean().reset_index()\n",
        "media_emissao_anual"
      ],
      "metadata": {
        "id": "Bd5QOcPINEju"
      },
      "execution_count": null,
      "outputs": []
    },
    {
      "cell_type": "code",
      "source": [
        "media_emissao_anual = media_emissao_anual.pivot_table(index = 'Ano', columns = 'Gás', values = 'Emissão')\n",
        "media_emissao_anual"
      ],
      "metadata": {
        "id": "35EDJ0JANHm7"
      },
      "execution_count": null,
      "outputs": []
    },
    {
      "cell_type": "code",
      "source": [
        "media_emissao_anual.plot(subplots = True, figsize = (10,40));"
      ],
      "metadata": {
        "id": "z4jdNa4pNJtf"
      },
      "execution_count": null,
      "outputs": []
    },
    {
      "cell_type": "markdown",
      "source": [
        "Parte final - utilizando uma nova base do censo de 2022 do ibge (https://cdn3.gnarususercontent.com.br/2927-pandas-selecao-agrupamento-dados/POP2022_Municipios.xls)"
      ],
      "metadata": {
        "id": "KsxvZ6RuNNmz"
      }
    },
    {
      "cell_type": "code",
      "source": [
        "import pandas as pd\n",
        "#url = 'https://cdn3.gnarususercontent.com.br/2927-pandas-selecao-agrupamento-dados/POP2022_Municipios.xls'\n",
        "populacao_estados = pd.read_excel('/content/POP2022_Municipios.xls', sheet_name = 'Municípios', header= 1, skipfooter=34)\n",
        "populacao_estados"
      ],
      "metadata": {
        "id": "sKujHWlCNX7E"
      },
      "execution_count": null,
      "outputs": []
    },
    {
      "cell_type": "markdown",
      "source": [
        "definindo a emissao per capita"
      ],
      "metadata": {
        "id": "YBhPjOtpPADf"
      }
    },
    {
      "cell_type": "code",
      "source": [
        "populacao_estados.groupby('UF').sum(numeric_only= True)"
      ],
      "metadata": {
        "id": "hVAVfi295PHN"
      },
      "execution_count": null,
      "outputs": []
    },
    {
      "cell_type": "code",
      "source": [
        "populacao_estados['POPULAÇÃO'].astype(int)"
      ],
      "metadata": {
        "id": "xgcqWURoPyPQ"
      },
      "execution_count": null,
      "outputs": []
    },
    {
      "cell_type": "code",
      "source": [
        "populacao_estados[populacao_estados['POPULAÇÃO'].str.contains('\\(', na=False)]"
      ],
      "metadata": {
        "id": "3ckRu6PhP8r3"
      },
      "execution_count": null,
      "outputs": []
    },
    {
      "cell_type": "markdown",
      "source": [
        "Tratando os dados"
      ],
      "metadata": {
        "id": "6cxXY7CKQayH"
      }
    },
    {
      "cell_type": "code",
      "source": [
        "populacao_estados = populacao_estados.assign(populacao_sem_parenteses = populacao_estados['POPULAÇÃO'].replace('\\(\\d{1,2}\\)', '', regex = True),\n",
        "                                             populacao = lambda x : x.loc[:, 'populacao_sem_parenteses'].replace('\\.', '', regex = True))"
      ],
      "metadata": {
        "id": "O4_WUzCNQdOA"
      },
      "execution_count": null,
      "outputs": []
    },
    {
      "cell_type": "code",
      "source": [
        "populacao_estados[populacao_estados['POPULAÇÃO'].str.contains('\\(', na = False)]"
      ],
      "metadata": {
        "id": "nPi6fdnh5IVi"
      },
      "execution_count": null,
      "outputs": []
    },
    {
      "cell_type": "code",
      "source": [
        "populacao_estados = populacao_estados.astype({'populacao':'int64'})"
      ],
      "metadata": {
        "id": "OqRAQLK55MPd"
      },
      "execution_count": null,
      "outputs": []
    },
    {
      "cell_type": "code",
      "source": [
        "emissao_estados = emissoes_por_ano[emissoes_por_ano['Ano'] == 2021].groupby('Estado')[['Emissão']].sum().reset_index()\n",
        "emissao_estados"
      ],
      "metadata": {
        "id": "AaHfbOixNfEu"
      },
      "execution_count": null,
      "outputs": []
    },
    {
      "cell_type": "code",
      "source": [
        "dados_agrupados = pd.merge(emissao_estados, populacao_estados, left_on = 'Estado', right_on = 'UF')\n",
        "dados_agrupados"
      ],
      "metadata": {
        "id": "kHHSeMC3Yd-_"
      },
      "execution_count": null,
      "outputs": []
    },
    {
      "cell_type": "code",
      "source": [
        "dados_agrupados.plot(x = 'populacao', y= 'Emissão', kind = 'scatter', figsize=(8,6));"
      ],
      "metadata": {
        "id": "aMjEw3rMYwaI"
      },
      "execution_count": null,
      "outputs": []
    },
    {
      "cell_type": "code",
      "source": [
        "import plotly.express as px"
      ],
      "metadata": {
        "id": "hw78Op2nZVc6"
      },
      "execution_count": null,
      "outputs": []
    },
    {
      "cell_type": "code",
      "source": [
        "px.scatter(dados_agrupados, x = 'populacao', y = 'Emissão', hover_name = 'Estado', text='Estado', opacity=0)"
      ],
      "metadata": {
        "id": "Ew_vHb2qZZlj"
      },
      "execution_count": null,
      "outputs": []
    },
    {
      "cell_type": "markdown",
      "source": [
        "obtendo emissao per capita"
      ],
      "metadata": {
        "id": "FM0PEqXWZopj"
      }
    },
    {
      "cell_type": "code",
      "source": [
        "dados_agrupados = dados_agrupados.assign(emissao_per_capita = dados_agrupados['Emissão'] / dados_agrupados['populacao']).sort_values('emissao_per_capita', ascending = False)\n",
        "dados_agrupados"
      ],
      "metadata": {
        "id": "vzx34t5lZri6"
      },
      "execution_count": null,
      "outputs": []
    },
    {
      "cell_type": "code",
      "source": [
        "px.bar(data_frame = dados_agrupados, x = 'Estado', y = 'emissao_per_capita')"
      ],
      "metadata": {
        "id": "dJROKKK1aJ_b"
      },
      "execution_count": null,
      "outputs": []
    },
    {
      "cell_type": "code",
      "source": [
        "px.scatter(data_frame = dados_agrupados, x = 'populacao', y = 'Emissão', text = 'Estado', size = 'emissao_per_capita')"
      ],
      "metadata": {
        "id": "ZXZMUM35aMPs"
      },
      "execution_count": null,
      "outputs": []
    }
  ]
}